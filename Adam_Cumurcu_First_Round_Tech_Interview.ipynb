{
  "nbformat": 4,
  "nbformat_minor": 0,
  "metadata": {
    "colab": {
      "name": "Adam Cumurcu First_Round_Tech_Interview.ipynb",
      "provenance": [],
      "collapsed_sections": [],
      "include_colab_link": true
    },
    "kernelspec": {
      "name": "python3",
      "display_name": "Python 3"
    }
  },
  "cells": [
    {
      "cell_type": "markdown",
      "metadata": {
        "id": "view-in-github",
        "colab_type": "text"
      },
      "source": [
        "<a href=\"https://colab.research.google.com/github/PipSaysHoot/conditionals-python-lab-data-science-intro-000/blob/master/Adam_Cumurcu_First_Round_Tech_Interview.ipynb\" target=\"_parent\"><img src=\"https://colab.research.google.com/assets/colab-badge.svg\" alt=\"Open In Colab\"/></a>"
      ]
    },
    {
      "cell_type": "markdown",
      "metadata": {
        "id": "dNho-tp5m3yY"
      },
      "source": [
        "# PYTHON\n"
      ]
    },
    {
      "cell_type": "markdown",
      "metadata": {
        "id": "rD7llJsGm9aS"
      },
      "source": [
        "### 1. Create a list called \"friends\" containing 3 of your friends' names and make them all lowercase\n"
      ]
    },
    {
      "cell_type": "code",
      "metadata": {
        "id": "9wCw-a8MbasY"
      },
      "source": [
        "friends = ['jack', 'jill', 'ivanka']# Your Code Here"
      ],
      "execution_count": 11,
      "outputs": []
    },
    {
      "cell_type": "markdown",
      "metadata": {
        "id": "iY5fymw2nEXl"
      },
      "source": [
        "### 2. Now select the last element from the list you just created\n",
        "\n"
      ]
    },
    {
      "cell_type": "code",
      "metadata": {
        "id": "Ki3M_YLDborC",
        "colab": {
          "base_uri": "https://localhost:8080/",
          "height": 35
        },
        "outputId": "0c0631f8-b05e-4c19-b57c-b46cd8749e92"
      },
      "source": [
        "friends[-1]# Your Code Here"
      ],
      "execution_count": 12,
      "outputs": [
        {
          "output_type": "execute_result",
          "data": {
            "application/vnd.google.colaboratory.intrinsic+json": {
              "type": "string"
            },
            "text/plain": [
              "'ivanka'"
            ]
          },
          "metadata": {
            "tags": []
          },
          "execution_count": 12
        }
      ]
    },
    {
      "cell_type": "markdown",
      "metadata": {
        "id": "h_FCRp8PnFA7"
      },
      "source": [
        "### 3. Capitalize the first letter of the last element in the list"
      ]
    },
    {
      "cell_type": "code",
      "metadata": {
        "id": "IwfEzmMdc_xk",
        "colab": {
          "base_uri": "https://localhost:8080/",
          "height": 35
        },
        "outputId": "cdc69230-ebcc-4170-9498-87ce74f998c0"
      },
      "source": [
        "friends[-1].title()# Your Code Here"
      ],
      "execution_count": 13,
      "outputs": [
        {
          "output_type": "execute_result",
          "data": {
            "application/vnd.google.colaboratory.intrinsic+json": {
              "type": "string"
            },
            "text/plain": [
              "'Ivanka'"
            ]
          },
          "metadata": {
            "tags": []
          },
          "execution_count": 13
        }
      ]
    },
    {
      "cell_type": "markdown",
      "metadata": {
        "id": "BjbNuInvnR-Y"
      },
      "source": [
        "### 4. Iterate through the list and capitalize the first letter of each friend's name\n"
      ]
    },
    {
      "cell_type": "code",
      "metadata": {
        "id": "EPIQB3rfdFWK",
        "colab": {
          "base_uri": "https://localhost:8080/"
        },
        "outputId": "405c5b57-81ba-49d6-b5f6-a10f978cf952"
      },
      "source": [
        "for element in friends:\n",
        "  print(element.title())# Your Code Here"
      ],
      "execution_count": 14,
      "outputs": [
        {
          "output_type": "stream",
          "text": [
            "Jack\n",
            "Jill\n",
            "Ivanka\n"
          ],
          "name": "stdout"
        }
      ]
    },
    {
      "cell_type": "code",
      "metadata": {
        "colab": {
          "base_uri": "https://localhost:8080/"
        },
        "id": "VWOqIVZHXHQ_",
        "outputId": "8fc71e00-a04f-4f88-c95c-110e5e12d067"
      },
      "source": [
        "[i.title()for i in friends if len(i) < 5]"
      ],
      "execution_count": 15,
      "outputs": [
        {
          "output_type": "execute_result",
          "data": {
            "text/plain": [
              "['Jack', 'Jill']"
            ]
          },
          "metadata": {
            "tags": []
          },
          "execution_count": 15
        }
      ]
    },
    {
      "cell_type": "markdown",
      "metadata": {
        "id": "pD54KapbncOn"
      },
      "source": [
        "# MATH"
      ]
    },
    {
      "cell_type": "markdown",
      "metadata": {
        "id": "3YyHSVBtawwb"
      },
      "source": [
        "$$f' (x) = \\frac{df}{dx} = \\lim_{h\\to0} \\frac{f (x + h) - f (x)}{h}$$\n",
        "\n",
        "\n",
        "Answer the questions below in reference to the equation:\n",
        "\n",
        "5. What can you tell me about the numerator?\n",
        "\n",
        "6. What is the limit for? Why do we need it?\n",
        "\n",
        "7. Would we need the limit if we calculated the derivative of a linear function?"
      ]
    }
  ]
}